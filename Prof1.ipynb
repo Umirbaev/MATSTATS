{
  "cells": [
    {
      "cell_type": "markdown",
      "metadata": {
        "id": "yM8HCBa22gIQ"
      },
      "source": [
        "# <a href=\"https://mipt-stats.gitlab.io/courses/ad_mipt.html\">Phystech@DataScience</a>\n",
        "## Профильное задание №1 для направления \"физика\"\n",
        "\n",
        "**Правила:**\n",
        "\n",
        "* Выполненную работу нужно отправить телеграм-боту `@miptstats_pds_bot`.\n",
        "* Дедлайн **15 мая в 23:00**. После дедлайна работы не принимаются кроме случаев наличия уважительной причины.\n",
        "* Прислать нужно ноутбук в формате `ipynb` и все фотографии, если пишете теоретическую часть от руки.\n",
        "* Решения, размещенные на каких-либо интернет-ресурсах, не принимаются. Публикация решения может быть приравнена к предоставлении возможности списать.\n",
        "* Для выполнения задания используйте этот ноутбук в качестве основы, ничего не удаляя из него.\n",
        "\n",
        "-----\n",
        "\n"
      ]
    },
    {
      "cell_type": "markdown",
      "metadata": {
        "id": "_NypndkOwHaf"
      },
      "source": [
        "# Задача 1 Оптимизационная\n",
        "\n",
        "Физики из города Долгопрудный купили сверхточный термометр и датчик давления для исследования разреженных газов. В сосуд с изменяемым объемом они закачали некоторое количество одноатомного газа, причем он оказался достаточно разреженным. Затем они изменяли температуру данного сосуда и измеряли давление, причём теплоемкость газа в данном процессе можно считать постоянной. Значения, полученные в ходе эксперимента, они записывали в этот [файл](https://drive.google.com/file/d/1vg3fFktL01uqXNjUFRxlDdYWOyHOjDJL/view?usp=sharing). Постройте оценку теплоёмкости данного газа с как можно меньшей погрешностью. \n",
        "\n",
        "Оценка должна быть \"адекватной\" (константа не подойдет :) ). Понятие адекватности определяйте сами.\n",
        "\n",
        "*Указание 1: для процессов с постоянной теплоёмкостью зависимость давления от температуры имеет вид $P \\propto T^{\\alpha}$, где $\\alpha$ &mdash; любое число.*\n",
        "\n",
        "*Указание 2: Может быть полезным для уменьшения погрешности усреднять давление в некотором диапазоне температур.*\n",
        "\n",
        "\n"
      ]
    },
    {
      "cell_type": "markdown",
      "metadata": {
        "id": "6AEGwc_PyunH"
      },
      "source": [
        "# Задача 2\n",
        "В сфере статистики экзопланет ныне бытует мнение, что чем выше металличность звезды, тем выше вероятность того, что у нее будет планета гигант. Рассмотрим [часть выгрузки](https://drive.google.com/file/d/1PTc_AXsRogXQj_4paxbWWqxX5NWZJQoS/view) базы данных экзопланетного архива NASA и проверим, так ли это. Конечно, в реальном исследовании стоит учитывать неоднородность данных, но для начала нам будет достаточно и сырых данных.\n",
        "\n",
        "Проверьте гипотезу с использованием критерия согласия хи-квадрат. \n",
        "\n",
        "*Замечание: в этой задаче у вас есть шанс поработать с настоящими \"реальными\" данными:)*\n"
      ]
    },
    {
      "cell_type": "code",
      "execution_count": 6,
      "metadata": {
        "id": "gfen0eWTh-x3",
        "colab": {
          "base_uri": "https://localhost:8080/"
        },
        "outputId": "fdbc0ed8-5555-454a-a061-4601c91ce1dd"
      },
      "outputs": [
        {
          "output_type": "stream",
          "name": "stdout",
          "text": [
            "Let's set the H0 hypothesis as \"There is no any relation\"\n"
          ]
        }
      ],
      "source": [
        "import pandas as pd\n",
        "\n",
        "data = pd.read_csv('data set.csv', sep=';', engine='python', decimal=',')\n",
        "data.iloc[:10, :9]\n",
        "print('Let\\'s set the H0 hypothesis as \"There is no any relation\"')"
      ]
    },
    {
      "cell_type": "code",
      "execution_count": 7,
      "metadata": {
        "id": "-0DLlX79XHCn",
        "colab": {
          "base_uri": "https://localhost:8080/"
        },
        "outputId": "45ff4805-fd46-449d-8a9b-e8bc2a2867fa"
      },
      "outputs": [
        {
          "output_type": "stream",
          "name": "stdout",
          "text": [
            "Degree of freedom is equal to 76\n",
            "p-value is equal to 0.01\n",
            "Critical value of Chi-square is equal to 106.582\n",
            "Calculated value of Chi-square is equal to 100.71097883597878\n",
            "Critical vlaue(106.582) >= than calculated value(100.71097883597878), so this means that H0 hypothesis is true\n",
            "So there is no relation between st_met and pl_bmassj\n"
          ]
        }
      ],
      "source": [
        "met = set(data['st_met'].to_list())\n",
        "data1 = pd.DataFrame(columns=['gigant', 'not_gigant'])\n",
        "for i in met:\n",
        "    if str(i) == 'nan':\n",
        "        continue\n",
        "    data1.loc[str(i)] = [len(data.loc[(data['st_met'] == i) & (data['pl_bmassj'] > 1)].index), len(data.loc[(data['st_met'] == i) & (data['pl_bmassj'] <= 1)].index)]\n",
        "\n",
        "\n",
        "data1['Total_in_row'] = data1.sum(axis=1)\n",
        "data1.loc['Total_in_col'] = data1.sum()\n",
        "\n",
        "tt = data1.loc['Total_in_col']\n",
        "data1_exp = pd.DataFrame(columns=['gigant', 'not_gigant', 'Total_in_row'])\n",
        "data1_exp = data1.apply(lambda x: [tt[0] * x[2] / tt[2], tt[1] * x[2] / tt[2], x[2]], axis=1, result_type='expand')\n",
        "\n",
        "degree_of_freedom = (len(data1.index) - 2)\n",
        "print(f'Degree of freedom is equal to {degree_of_freedom}')\n",
        "p_val = 0.01\n",
        "print(f'p-value is equal to {p_val}')\n",
        "critical_val = 106.582\n",
        "print(f'Critical value of Chi-square is equal to {critical_val}')\n",
        "\n",
        "calc_val = 0.0\n",
        "for i in met:\n",
        "    if str(i) == 'nan':\n",
        "        continue\n",
        "    calc_val += ((data1.loc[str(i)][0] - data1_exp.loc[str(i)][0]) ** 2) / (data1_exp.loc[str(i)][0])\n",
        "    calc_val += ((data1.loc[str(i)][1] - data1_exp.loc[str(i)][1]) ** 2) / (data1_exp.loc[str(i)][1])\n",
        "print(f'Calculated value of Chi-square is equal to {calc_val}')\n",
        "print(f'Critical vlaue({critical_val}) >= than calculated value({calc_val}), so this means that H0 hypothesis is true')\n",
        "print('So there is no relation between st_met and pl_bmassj')"
      ]
    }
  ],
  "metadata": {
    "colab": {
      "collapsed_sections": [],
      "name": "version_1.ipynb",
      "provenance": []
    },
    "kernelspec": {
      "display_name": "Python 3 (ipykernel)",
      "language": "python",
      "name": "python3"
    },
    "language_info": {
      "codemirror_mode": {
        "name": "ipython",
        "version": 3
      },
      "file_extension": ".py",
      "mimetype": "text/x-python",
      "name": "python",
      "nbconvert_exporter": "python",
      "pygments_lexer": "ipython3",
      "version": "3.10.4"
    }
  },
  "nbformat": 4,
  "nbformat_minor": 0
}